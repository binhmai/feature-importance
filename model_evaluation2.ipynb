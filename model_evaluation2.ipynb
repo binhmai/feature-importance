{
 "cells": [
  {
   "cell_type": "code",
   "execution_count": 1,
   "metadata": {},
   "outputs": [],
   "source": [
    "import numpy as np\n",
    "import pandas as pd\n",
    "import pandas_profiling\n",
    "import scipy.stats\n",
    "from sklearn.neural_network import MLPRegressor\n",
    "from sklearn.ensemble import RandomForestRegressor\n",
    "from sklearn.gaussian_process import GaussianProcessRegressor\n",
    "from sklearn.tree import DecisionTreeRegressor\n",
    "from sklearn.gaussian_process.kernels import RBF\n",
    "from sklearn.svm import SVR\n",
    "from sklearn import linear_model\n",
    "from sklearn.linear_model import Ridge, Lasso, ElasticNet\n",
    "from sklearn.model_selection import cross_val_score\n",
    "import seaborn as sns\n",
    "import matplotlib.pyplot as plt\n"
   ]
  },
  {
   "cell_type": "code",
   "execution_count": 2,
   "metadata": {},
   "outputs": [],
   "source": [
    "data = pd.read_excel(\"DAB12.xlsx\", sheet_name=\"exo\")\n",
    "\n",
    "data = data.drop(['Dist_DAB',\\\n",
    "                  'E1_elec', 'E1_polar', 'E1_ct', 'E1_solv',\\\n",
    "                  'E2_elec', 'E2_Pauli', 'E2_polar', 'E2_ct', 'E2_solv',\\\n",
    "                  'E3_elec', 'E3_disp', 'E3_polar', 'E3_ct', 'E3_solv'], axis = 1)\n",
    "\n",
    "X = data.drop(['Name', 'Class', 'deltaG'], axis = 1)\n",
    "\n",
    "y = data['deltaG']\n",
    "\n",
    "accuracy_df = pd.DataFrame(columns =['Model'])\n"
   ]
  },
  {
   "cell_type": "code",
   "execution_count": 3,
   "metadata": {},
   "outputs": [],
   "source": [
    "####################\n",
    "def mean_confidence_interval(data, confidence=0.95):\n",
    "    a = 1.0 * np.array(data)\n",
    "    n = len(a)\n",
    "    m, se = np.mean(a), scipy.stats.sem(a)\n",
    "    h = se * scipy.stats.t.ppf((1 + confidence) / 2., n-1)\n",
    "    return m, m-h, m+h\n"
   ]
  },
  {
   "cell_type": "code",
   "execution_count": 4,
   "metadata": {},
   "outputs": [],
   "source": [
    "####################\n",
    "def compute_accuracy(dataset, model, data_iterations, cv_iterations):\n",
    "    # For each 'data_iteration', sample a new subset of the 'other' trajectories to be used in a 1:1 ratio set with the 'quick exo' trajectories\n",
    "    average_scores = []\n",
    "\n",
    "    # Also keep track of all cv scores in order to compute confidence interval\n",
    "    all_scores = []\n",
    "\n",
    "    for i in range(0, data_iterations):\n",
    "\n",
    "        # Do N fold cross validation on selected training set\n",
    "        cv_scores = cross_val_score(model, X, y, cv=cv_iterations, scoring='neg_mean_squared_error')\n",
    "        accuracies = []\n",
    "        for i in range(len(cv_scores)):\n",
    "            cv_scores[i] = np.abs(cv_scores[i])\n",
    "            accuracies.append(np.sqrt(cv_scores[i]))\n",
    "\n",
    "        # Average the cross validation scores, record it\n",
    "        avg_score = np.mean(accuracies)\n",
    "        average_scores.append(avg_score)\n",
    "\n",
    "        # Add each cv score to 'all_scores'\n",
    "        for score in average_scores:\n",
    "            all_scores.append(score)\n",
    "\n",
    "    # Compute the average score over all data iterations (samplings of 'other' trajectories for the training set)\n",
    "    overall_average_score = np.mean(average_scores)\n",
    "    #print(\"RMSE: \", overall_average_score)\n",
    "\n",
    "    # Compute confidence interval of the accuracies\n",
    "    mean1, CI_lower1, CI_upper1 = mean_confidence_interval(all_scores)\n",
    "    #print(\"RMSE Upper Bound: \" + str(CI_upper1) + '\\n' + \"RMSE Lower Bound: \" + str(CI_lower1))\n",
    "\n",
    "    # Return overall average accuracy\n",
    "    return overall_average_score\n"
   ]
  },
  {
   "cell_type": "code",
   "execution_count": 5,
   "metadata": {},
   "outputs": [
    {
     "name": "stdout",
     "output_type": "stream",
     "text": [
      "          Model      RMSE\n",
      "0  RandomForest  0.678471\n",
      "1  DecisionTree  0.718396\n",
      "2         LASSO  0.896636\n",
      "3   Elastic-Net  0.870784\n",
      "4           GPR  9.047674\n",
      "5    SVR-linear  0.927422\n",
      "6       SVR-rbf  1.471259\n",
      "7         Ridge  0.941721\n"
     ]
    }
   ],
   "source": [
    "####################\n",
    "#Create Regressor\n",
    "model = RandomForestRegressor(n_estimators=120)\n",
    "\n",
    "#Call compute accuracy function\n",
    "accuracy = compute_accuracy(data, model, data_iterations=5, cv_iterations=20)\n",
    "\n",
    "#Track accuracy of each model in a dataframe\n",
    "accuracy_df = accuracy_df.append({'Model': 'RandomForest', 'RMSE': accuracy}, ignore_index=True)\n",
    "\n",
    "####################\n",
    "#Create Regressor\n",
    "model = DecisionTreeRegressor()\n",
    "\n",
    "#Call compute accuracy function\n",
    "accuracy = compute_accuracy(data, model, data_iterations=5, cv_iterations=20)\n",
    "\n",
    "#Track accuracy of each model in a dataframe\n",
    "accuracy_df = accuracy_df.append({'Model': 'DecisionTree', 'RMSE': accuracy}, ignore_index=True)\n",
    "\n",
    "####################\n",
    "#Create Regressor\n",
    "model = Lasso()\n",
    "\n",
    "#Call compute accuracy function\n",
    "accuracy = compute_accuracy(data, model, data_iterations=5, cv_iterations=20)\n",
    "\n",
    "#Track accuracy of each model in a dataframe\n",
    "accuracy_df = accuracy_df.append({'Model': 'LASSO', 'RMSE': accuracy}, ignore_index=True)\n",
    "\n",
    "####################\n",
    "#Create Regressor\n",
    "model = linear_model.ElasticNet()\n",
    "\n",
    "#Call compute accuracy function\n",
    "accuracy = compute_accuracy(data, model, data_iterations=5, cv_iterations=20)\n",
    "\n",
    "#Track accuracy of each model in a dataframe\n",
    "accuracy_df = accuracy_df.append({'Model': 'Elastic-Net', 'RMSE': accuracy}, ignore_index=True)\n",
    "\n",
    "####################\n",
    "#Create Regressor\n",
    "kernel = 1.0 * RBF(1.0)\n",
    "model = GaussianProcessRegressor(kernel=kernel)\n",
    "\n",
    "#Call compute accuracy function\n",
    "accuracy = compute_accuracy(data, model, data_iterations=5, cv_iterations=20)\n",
    "\n",
    "#Track accuracy of each model in a dataframe\n",
    "accuracy_df = accuracy_df.append({'Model': 'GPR', 'RMSE': accuracy}, ignore_index=True)\n",
    "\n",
    "####################\n",
    "#Create Regressor\n",
    "model = SVR(kernel='linear')\n",
    "\n",
    "#Call compute accuracy function\n",
    "accuracy = compute_accuracy(data, model, data_iterations=5, cv_iterations=20)\n",
    "\n",
    "#Track accuracy of each model in a dataframe\n",
    "accuracy_df = accuracy_df.append({'Model': 'SVR-linear', 'RMSE': accuracy}, ignore_index=True)\n",
    "\n",
    "####################\n",
    "#Create Regressor\n",
    "model = SVR(kernel='rbf')\n",
    "\n",
    "#Call compute accuracy function\n",
    "accuracy = compute_accuracy(data, model, data_iterations=5, cv_iterations=20)\n",
    "\n",
    "#Track accuracy of each model in a dataframe\n",
    "accuracy_df = accuracy_df.append({'Model': 'SVR-rbf', 'RMSE': accuracy}, ignore_index=True)\n",
    "\n",
    "####################\n",
    "#Create Classifier\n",
    "model = Ridge()\n",
    "\n",
    "#Call compute accuracy function\n",
    "accuracy = compute_accuracy(data, model, data_iterations=5, cv_iterations=20)\n",
    "\n",
    "#Track accuracy of each model in a dataframe\n",
    "accuracy_df = accuracy_df.append({'Model': 'Ridge', 'RMSE': accuracy}, ignore_index=True)\n",
    "\n",
    "####################\n",
    "print(accuracy_df)\n"
   ]
  },
  {
   "cell_type": "code",
   "execution_count": 6,
   "metadata": {},
   "outputs": [
    {
     "data": {
      "image/png": "[encoded data removed]",
      "text/plain": [
       "<Figure size 432x288 with 1 Axes>"
      ]
     },
     "metadata": {
      "needs_background": "light"
     },
     "output_type": "display_data"
    }
   ],
   "source": [
    "%matplotlib inline\n",
    "####################\n",
    "splot=sns.barplot(x=\"Model\", y=\"RMSE\", data=accuracy_df)\n",
    "for p in splot.patches:\n",
    "    splot.annotate(format(p.get_height(), '.2f'), \n",
    "                   (p.get_x() + p.get_width() / 2., p.get_height()), \n",
    "                   ha = 'center', va = 'center', \n",
    "                   xytext = (0, 9),\n",
    "                   fontsize=14,\n",
    "                   textcoords = 'offset points')\n",
    "plt.xticks(rotation=90, horizontalalignment=\"center\")\n",
    "plt.yticks(np.arange(0,11,1))\n",
    "plt.tick_params(axis='x', labelsize=14)\n",
    "plt.xlabel('Model', fontsize=16)\n",
    "plt.tick_params(axis='y', labelsize=14)\n",
    "plt.ylabel('RMSE', fontsize=16)\n",
    "plt.show()\n"
   ]
  },
  {
   "cell_type": "code",
   "execution_count": null,
   "metadata": {},
   "outputs": [],
   "source": []
  }
 ],
 "metadata": {
  "kernelspec": {
   "display_name": "Python 3",
   "language": "python",
   "name": "python3"
  },
  "language_info": {
   "codemirror_mode": {
    "name": "ipython",
    "version": 3
   },
   "file_extension": ".py",
   "mimetype": "text/x-python",
   "name": "python",
   "nbconvert_exporter": "python",
   "pygments_lexer": "ipython3",
   "version": "3.8.5"
  }
 },
 "nbformat": 4,
 "nbformat_minor": 4
}
